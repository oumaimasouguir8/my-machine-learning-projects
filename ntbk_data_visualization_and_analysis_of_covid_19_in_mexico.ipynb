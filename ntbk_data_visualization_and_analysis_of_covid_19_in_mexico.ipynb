{
  "nbformat": 4,
  "nbformat_minor": 0,
  "metadata": {
    "colab": {
      "name": "ntbk-data-visualization-and-analysis-of-covid-19-in-mexico.ipynb",
      "provenance": [],
      "collapsed_sections": [],
      "authorship_tag": "ABX9TyNQHEbZH1HmplwO5uZywWWV",
      "include_colab_link": true
    },
    "kernelspec": {
      "name": "python3",
      "display_name": "Python 3"
    }
  },
  "cells": [
    {
      "cell_type": "markdown",
      "metadata": {
        "id": "view-in-github",
        "colab_type": "text"
      },
      "source": [
        "<a href=\"https://colab.research.google.com/github/oumaima61/my-machine-learning-projects/blob/master/ntbk_data_visualization_and_analysis_of_covid_19_in_mexico.ipynb\" target=\"_parent\"><img src=\"https://colab.research.google.com/assets/colab-badge.svg\" alt=\"Open In Colab\"/></a>"
      ]
    },
    {
      "cell_type": "markdown",
      "metadata": {
        "id": "VUeuA9ZX00Vt"
      },
      "source": [
        "Data Processing\n",
        "\n",
        "Data processing occurs when data is collected and translated into usable information. Data almost never comes in a form that is ready for us. It is important for data processing to be done correctly as not to negatively affect the data output "
      ]
    },
    {
      "cell_type": "markdown",
      "metadata": {
        "id": "UfY4HR851YWd"
      },
      "source": [
        "Data Collection\n",
        "\n",
        "Collecting data is the first step in the data processing. Data is pulled from available sources. It is important that the data sources available are trustworthy and well-built so that the data collected (and later used as information) is of the highest possible quality [2].\n",
        "\n",
        "Novel Coronavirus (COVID-19) epidemiological data has been around since 22 January, 2020. Data loaded from the John Hopkins CSSE data repository comes from various sources including the World Health Organization (WHO), DXY.cn. The data is updated twice on a daily basis.\n",
        "\n",
        "John Hopkins CSSE data repository\n",
        "\n",
        "Fields available in the data include Province/State, Country/Region, Last Update, Confirmed, Suspected, Recovered, and Deaths.\n",
        "\n",
        "On 23 March, 2020, a new data structure was released. The current resources for the latest time-series data are:\n",
        "\n",
        "    time_series_covid19_confirmed_global.csv\n",
        "    time_series_covid19_deaths_global.csv\n",
        "    time_series_covid19_recovered_global.csv\n",
        "\n"
      ]
    },
    {
      "cell_type": "markdown",
      "metadata": {
        "id": "MmGs86621hT5"
      },
      "source": [
        "Import the modules"
      ]
    },
    {
      "cell_type": "code",
      "metadata": {
        "id": "akxjnPJL1StO"
      },
      "source": [
        "import pandas as pd \n",
        "import numpy as np \n",
        "import seaborn as sns\n",
        "\n",
        "from ipywidgets import interact, interactive, fixed, interact_manual\n",
        "from IPython.core.display import display, HTML\n",
        "import matplotlib.pyplot as plt \n",
        "import ipywidgets as widgets\n",
        "import plotly.express as px\n",
        "import plotly.graph_objects as go\n",
        "import pandas as pd\n",
        "import altair as alt\n",
        "print('Modules are imported.')"
      ],
      "execution_count": null,
      "outputs": []
    },
    {
      "cell_type": "markdown",
      "metadata": {
        "id": "xF1TxM4g1uDf"
      },
      "source": [
        "Import the data"
      ]
    },
    {
      "cell_type": "code",
      "metadata": {
        "id": "fQhpC6KQ1qA6"
      },
      "source": [
        "df_confirmed = pd.read_csv('https://raw.githubusercontent.com/CSSEGISandData/COVID-19/master/csse_covid_19_data/csse_covid_19_time_series/time_series_covid19_confirmed_global.csv')\n",
        "df_recovered = pd.read_csv('https://raw.githubusercontent.com/CSSEGISandData/COVID-19/master/csse_covid_19_data/csse_covid_19_time_series/time_series_covid19_recovered_global.csv')\n",
        "df_death = pd.read_csv('https://raw.githubusercontent.com/CSSEGISandData/COVID-19/master/csse_covid_19_data/csse_covid_19_time_series/time_series_covid19_deaths_global.csv')\n",
        "df_country = pd.read_csv('https://raw.githubusercontent.com/CSSEGISandData/COVID-19/web-data/data/cases_country.csv') "
      ],
      "execution_count": null,
      "outputs": []
    },
    {
      "cell_type": "markdown",
      "metadata": {
        "id": "Mmtt0XaC15Tz"
      },
      "source": [
        "Data Preparation : Once the data is collected, it then enters the data preparation stage. Data preparation, often referred to as “pre-processing,” is the stage at which raw data is cleaned up and organized for the following stage of data processing. During preparation, raw data is diligently checked for any errors. The purpose of this step is to eliminate bad data (redundant, incomplete, or incorrect data)."
      ]
    },
    {
      "cell_type": "code",
      "metadata": {
        "id": "-He59hjx12XM"
      },
      "source": [
        "df_death['Country/Region'] = df_death['Country/Region'].replace('Mainland China', 'China')\n",
        "df_confirmed['Country/Region'] = df_confirmed['Country/Region'].replace('Mainland China', 'China')\n",
        "df_recovered['Country/Region'] = df_recovered['Country/Region'].replace('Mainland China', 'China') "
      ],
      "execution_count": null,
      "outputs": []
    },
    {
      "cell_type": "code",
      "metadata": {
        "id": "BIBPiXgI2GJN"
      },
      "source": [
        "df_confirmed.columns = map(str.lower, df_confirmed.columns)\n",
        "df_recovered.columns = map(str.lower, df_recovered.columns)\n",
        "df_death.columns = map(str.lower, df_death.columns)\n",
        "df_country.columns = map(str.lower, df_country.columns) "
      ],
      "execution_count": null,
      "outputs": []
    },
    {
      "cell_type": "code",
      "metadata": {
        "id": "CXij1skM2Ois"
      },
      "source": [
        "df_confirmed = df_confirmed.rename(columns={'province/state': 'state', 'country/region': 'country'})\n",
        "df_recovered = df_recovered.rename(columns={'province/state': 'state', 'country/region': 'country'})\n",
        "df_death = df_death.rename(columns={'province/state': 'state', 'country/region': 'country'})\n",
        "df_country = df_country.rename(columns={'country_region': 'country'}) "
      ],
      "execution_count": null,
      "outputs": []
    },
    {
      "cell_type": "markdown",
      "metadata": {
        "id": "ovHD-eEO2elM"
      },
      "source": [
        "Data Input\n",
        "\n",
        "Data input is the first stage in which raw data begins to take the form of usable information.*italicized text*"
      ]
    },
    {
      "cell_type": "code",
      "metadata": {
        "id": "cGme1yx12VPk"
      },
      "source": [
        "sorted_country = df_country.sort_values('confirmed', ascending=False).head(10)\n",
        "sorted_recovered = df_country.sort_values('recovered', ascending=False).head(10)"
      ],
      "execution_count": null,
      "outputs": []
    },
    {
      "cell_type": "code",
      "metadata": {
        "id": "c-9mPbsP2qhD"
      },
      "source": [
        "confirmed_total = int(df_country['confirmed'].sum())\n",
        "deaths_total = int(df_country['deaths'].sum())\n",
        "recovered_total = int(df_country['recovered'].sum())\n",
        "active_total = int(df_country['active'].sum()) "
      ],
      "execution_count": null,
      "outputs": []
    },
    {
      "cell_type": "markdown",
      "metadata": {
        "id": "vcqp0iW0200R"
      },
      "source": [
        "Sort the countries with the most confirmed cases"
      ]
    },
    {
      "cell_type": "code",
      "metadata": {
        "id": "z1BlMcID2v3s"
      },
      "source": [
        "sorted_confirmed = df_country.sort_values('confirmed', ascending=False).head(10)\n",
        "sorted_confirmed.head(10)"
      ],
      "execution_count": null,
      "outputs": []
    },
    {
      "cell_type": "markdown",
      "metadata": {
        "id": "DFXdkD1D3cRt"
      },
      "source": [
        "Data table with the top hit confirmed cases"
      ]
    },
    {
      "cell_type": "code",
      "metadata": {
        "id": "AWHqZLqU25hM"
      },
      "source": [
        "df = sorted_confirmed.head(10) "
      ],
      "execution_count": null,
      "outputs": []
    },
    {
      "cell_type": "code",
      "metadata": {
        "id": "E3auvRV530eU"
      },
      "source": [
        "data_table = pd.DataFrame()\n",
        "data_table[\"Country\"] = df['country']\n",
        "data_table[\"Confirmed\"] = df['confirmed']\n",
        "data_table[\"Deaths\"] = df['deaths']\n",
        "data_table[\"Recovered\"] = df['recovered']"
      ],
      "execution_count": null,
      "outputs": []
    },
    {
      "cell_type": "code",
      "metadata": {
        "id": "RL-Dr0HX36Bb"
      },
      "source": [
        "#hide_input\n",
        "(data_table.style.set_properties(**{'text-align': 'right'}).background_gradient(cmap='Reds').hide_index()).set_caption(\n",
        "    'Top 10 countries most affected by coronavirus')"
      ],
      "execution_count": null,
      "outputs": []
    },
    {
      "cell_type": "markdown",
      "metadata": {
        "id": "pfT1N1N64BvI"
      },
      "source": [
        "Data Exploration\n",
        "\n",
        "The output/interpretation stage is the stage at which data is finally usable to non-data scientists. It is translated, readable, and often in the form of graphs, videos, images, plain text, etc."
      ]
    },
    {
      "cell_type": "code",
      "metadata": {
        "id": "ETDZkyf63-HD"
      },
      "source": [
        "df_sorted_country = df_country.sort_values('confirmed', ascending= False)"
      ],
      "execution_count": null,
      "outputs": []
    },
    {
      "cell_type": "markdown",
      "metadata": {
        "id": "zGORHt3K4Ya9"
      },
      "source": [
        "Bubble chart with the top 10 worst hit countries - confirmed"
      ]
    },
    {
      "cell_type": "code",
      "metadata": {
        "id": "4xq7GK7c4U5E"
      },
      "source": [
        "def covid_bubble_chart(n):\n",
        "    df = df_sorted_country.head(n)\n",
        "    fig = px.scatter(df, x=\"country\", y=\"confirmed\", size=\"confirmed\", color=\"country\",\n",
        "               hover_name=\"country\", size_max=90)\n",
        "    fig.update_layout(\n",
        "    title=\"The top 10 Worst hit countries- Confirmed\",\n",
        "    xaxis_title=\"Countries\",\n",
        "    yaxis_title=\"Confirmed Cases\",\n",
        "    width = 700\n",
        "    )\n",
        "    fig.show();\n",
        "    \n",
        "    #fig.write_image(\"images/fig1.png\")\n",
        "fig = go.FigureWidget( layout=go.Layout() )\n",
        "interact(covid_bubble_chart, n=10)\n",
        "\n",
        "ipywLayout = widgets.Layout(border='solid 2px green')\n",
        "ipywLayout.display='none'\n",
        "widgets.VBox([fig], layout=ipywLayout)"
      ],
      "execution_count": null,
      "outputs": []
    },
    {
      "cell_type": "markdown",
      "metadata": {
        "id": "JIr3tQW54rLB"
      },
      "source": [
        "Treemap with the top 10 worst hit countries - confirmed"
      ]
    },
    {
      "cell_type": "code",
      "metadata": {
        "id": "osZ1wvTr4lOs"
      },
      "source": [
        "fig = px.treemap(sorted_confirmed, \n",
        "                 path=[\"country\"], \n",
        "                 values=\"confirmed\", height=700,\n",
        "                 title='The top 10 worst affected countries - Deaths Cases',\n",
        "                 color_discrete_sequence = px.colors.qualitative.Prism)\n",
        "\n",
        "fig.data[0].textinfo = 'label+text+value'\n",
        "#fig.write_image(\"images/fig2.png\")\n",
        "\n",
        "fig.show()"
      ],
      "execution_count": null,
      "outputs": []
    },
    {
      "cell_type": "markdown",
      "metadata": {
        "id": "8Xen0o8m4zrc"
      },
      "source": [
        "Bar chart with the top 10 worst hit countries - confirmed"
      ]
    },
    {
      "cell_type": "code",
      "metadata": {
        "id": "A13ynJj94lJN"
      },
      "source": [
        "fig = px.bar(sorted_confirmed,\n",
        "    x = \"country\",\n",
        "    y = \"confirmed\",\n",
        "    title= \"The Top 10 worst affected countries - Confirmed\", \n",
        "    color_discrete_sequence=[\"orange\"], \n",
        "    height=600,\n",
        "    width=1000\n",
        ")\n",
        "\n",
        "#fig.write_image(\"images/fig3.png\")\n",
        "fig.show()fig = px.bar(sorted_confirmed,\n",
        "    x = \"country\",\n",
        "    y = \"confirmed\",\n",
        "    title= \"The Top 10 worst affected countries - Confirmed\", \n",
        "    color_discrete_sequence=[\"orange\"], \n",
        "    height=600,\n",
        "    width=1000\n",
        ")\n",
        "\n",
        "#fig.write_image(\"images/fig3.png\")\n",
        "fig.show()"
      ],
      "execution_count": null,
      "outputs": []
    },
    {
      "cell_type": "markdown",
      "metadata": {
        "id": "pgPG_UJm4_Fs"
      },
      "source": [
        "Sort the countries with the most cases of death"
      ]
    },
    {
      "cell_type": "code",
      "metadata": {
        "id": "FUYg7N--47ae"
      },
      "source": [
        "sorted_deaths = df_country.sort_values('deaths', ascending=False).head(10)\n",
        "sorted_deaths.head(10)"
      ],
      "execution_count": null,
      "outputs": []
    },
    {
      "cell_type": "markdown",
      "metadata": {
        "id": "6ELa6pbR5ghn"
      },
      "source": [
        "Bar chart with the top 10 worst hit countries - Death Cases"
      ]
    },
    {
      "cell_type": "code",
      "metadata": {
        "id": "hFFjDyIR5Ee0"
      },
      "source": [
        "figura = px.bar(\n",
        "    sorted_deaths,\n",
        "    x = \"country\",\n",
        "    y = \"deaths\",\n",
        "    title= \"The top 10 worst hit countries - Death cases\", # the axis names\n",
        "    color_discrete_sequence=[\"red\"], \n",
        "    height=600,\n",
        "    width=1000\n",
        ")\n",
        "\n",
        "\n",
        "#figura.write_image(\"images/fig4.png\")\n",
        "figura.show() "
      ],
      "execution_count": null,
      "outputs": []
    },
    {
      "cell_type": "markdown",
      "metadata": {
        "id": "nVqBwXxf5syK"
      },
      "source": [
        "Sort the countries with the most deaths cases"
      ]
    },
    {
      "cell_type": "code",
      "metadata": {
        "id": "-1qbsRN15l_y"
      },
      "source": [
        "sorted_recovered = df_country.sort_values('recovered', ascending=False).head(10)\n",
        "sorted_recovered.head(10) "
      ],
      "execution_count": null,
      "outputs": []
    },
    {
      "cell_type": "markdown",
      "metadata": {
        "id": "I1BAXjzD5xyG"
      },
      "source": [
        "Bar chart with the top 10 worst hit countries - confirmed"
      ]
    },
    {
      "cell_type": "code",
      "metadata": {
        "id": "RrQ-B-DA5xJe"
      },
      "source": [
        "figura = px.bar(\n",
        "    sorted_recovered,\n",
        "    x = \"country\",\n",
        "    y = \"recovered\",\n",
        "    title= \"Top 10 recovered countries\", # the axis names\n",
        "    color_discrete_sequence=[\"green\"], \n",
        "    height=600,\n",
        "    width=1000\n",
        ")\n",
        "\n",
        "#figura.write_image(\"images/fig5.png\")\n",
        "figura.show() "
      ],
      "execution_count": null,
      "outputs": []
    },
    {
      "cell_type": "markdown",
      "metadata": {
        "id": "7n3hfOcw6M19"
      },
      "source": [
        "Time Series COVID-19 Mexico\n",
        "\n",
        "A time-series data that contains the counts on infected cases, deaths, and recoveries across countries is also given. The time-series data has individual files for each case and needs to be processed before visualization. The country coordinates are also provided for time-series visualization on geoplots such as Choropleth Maps."
      ]
    },
    {
      "cell_type": "markdown",
      "metadata": {
        "id": "Rn0pKTnh62Ho"
      },
      "source": [
        "Confirmed cases and deaths time series in Mexico"
      ]
    },
    {
      "cell_type": "code",
      "metadata": {
        "id": "tYemUngp6Hz7"
      },
      "source": [
        "def confirmedDeathsCases(country):\n",
        "    labels = ['confirmed', 'deaths']\n",
        "    colors = ['blue', 'red']\n",
        "    mode_size = [6, 8]\n",
        "    line_size = [4, 5]\n",
        "    \n",
        "    df_list = [df_confirmed, df_death]\n",
        "    \n",
        "    \n",
        "    fig = go.Figure();\n",
        "    \n",
        "    for i, df in enumerate(df_list):\n",
        "        if country == 'World' or country == 'world':\n",
        "            x_data = np.array(list(df.iloc[:, 20:].columns))\n",
        "            y_data = np.sum(np.asarray(df.iloc[:,4:]),axis = 0)\n",
        "            \n",
        "        else:    \n",
        "            x_data = np.array(list(df.iloc[:, 20:].columns))\n",
        "            y_data = np.sum(np.asarray(df[df['country'] == country].iloc[:,20:]),axis = 0)\n",
        "            \n",
        "        fig.add_trace(go.Scatter(x=x_data, y=y_data, mode='lines+markers',\n",
        "        name=labels[i],\n",
        "        line=dict(color=colors[i], width=line_size[i]),\n",
        "        connectgaps=True,\n",
        "        text = \"Total \" + str(labels[i]) +\": \"+ str(y_data[-1])\n",
        "        ));\n",
        "    \n",
        "    fig.update_layout(\n",
        "        title=\"COVID 19 cases of \" + country,\n",
        "        xaxis_title='Date',\n",
        "        yaxis_title='No. of Confirmed Cases',\n",
        "        margin=dict(l=20, r=20, t=40, b=20),\n",
        "        paper_bgcolor=\"lightgrey\",\n",
        "        width = 800,\n",
        "        \n",
        "    );\n",
        "    \n",
        "    fig.update_yaxes(type=\"linear\")\n",
        "    fig.show();\n",
        "    \n",
        "    #fig.write_image(\"images/fig6.png\")"
      ],
      "execution_count": null,
      "outputs": []
    },
    {
      "cell_type": "code",
      "metadata": {
        "id": "kU_zerJi7FMk"
      },
      "source": [
        "interact(confirmedDeathsCases, country='Mexico')\n",
        "ipywLayout = widgets.Layout(border='solid 2px green') "
      ],
      "execution_count": null,
      "outputs": []
    },
    {
      "cell_type": "markdown",
      "metadata": {
        "id": "UMuOIdAL7Swi"
      },
      "source": [
        "Confirmed and recovered cases time series in Mexico"
      ]
    },
    {
      "cell_type": "code",
      "metadata": {
        "id": "Mw-GbNW47N-O"
      },
      "source": [
        "def confirmedRecoveredCases(country):\n",
        "    labels = ['confirmed', 'recovered']\n",
        "    colors = ['blue', 'green']\n",
        "    mode_size = [6, 8]\n",
        "    line_size = [4, 5]\n",
        "    \n",
        "    df_list = [df_confirmed, df_death]\n",
        "    \n",
        "    \n",
        "    fig = go.Figure();\n",
        "    \n",
        "    for i, df in enumerate(df_list):\n",
        "        if country == 'World' or country == 'world':\n",
        "            x_data = np.array(list(df.iloc[:, 20:].columns))\n",
        "            y_data = np.sum(np.asarray(df.iloc[:,4:]),axis = 0)\n",
        "            \n",
        "        else:    \n",
        "            x_data = np.array(list(df.iloc[:, 20:].columns))\n",
        "            y_data = np.sum(np.asarray(df[df['country'] == country].iloc[:,20:]),axis = 0)\n",
        "            \n",
        "        fig.add_trace(go.Scatter(x=x_data, y=y_data, mode='lines+markers',\n",
        "        name=labels[i],\n",
        "        line=dict(color=colors[i], width=line_size[i]),\n",
        "        connectgaps=True,\n",
        "        text = \"Total \" + str(labels[i]) +\": \"+ str(y_data[-1])\n",
        "        ));\n",
        "    \n",
        "    fig.update_layout(\n",
        "        title=\"COVID 19 cases of \" + country,\n",
        "        xaxis_title='Date',\n",
        "        yaxis_title='No. of Confirmed Cases',\n",
        "        margin=dict(l=20, r=20, t=40, b=20),\n",
        "        paper_bgcolor=\"lightgrey\",\n",
        "        width = 800,\n",
        "        \n",
        "    );\n",
        "    \n",
        "    fig.update_yaxes(type=\"linear\")\n",
        "    fig.show();\n",
        "    \n",
        "    #fig.write_image(\"images/fig7.png\")"
      ],
      "execution_count": null,
      "outputs": []
    },
    {
      "cell_type": "code",
      "metadata": {
        "id": "u3SoklsJ7YvU"
      },
      "source": [
        "interact(confirmedRecoveredCases, country='Mexico')\n",
        "ipywLayout = widgets.Layout(border='solid 2px green')"
      ],
      "execution_count": null,
      "outputs": []
    },
    {
      "cell_type": "markdown",
      "metadata": {
        "id": "dG7PUAp97gUi"
      },
      "source": [
        "Import the data"
      ]
    },
    {
      "cell_type": "code",
      "metadata": {
        "id": "IrP04lBX7dVE"
      },
      "source": [
        "deaths_df = pd.read_csv('https://raw.githubusercontent.com/CSSEGISandData/COVID-19/master/csse_covid_19_data/csse_covid_19_time_series/time_series_covid19_deaths_global.csv')\n",
        "confirmed_df = pd.read_csv('https://raw.githubusercontent.com/CSSEGISandData/COVID-19/master/csse_covid_19_data/csse_covid_19_time_series/time_series_covid19_confirmed_global.csv')\n",
        "recovered_df = pd.read_csv('https://raw.githubusercontent.com/CSSEGISandData/COVID-19/master/csse_covid_19_data/csse_covid_19_time_series/time_series_covid19_recovered_global.csv')\n",
        "country_df = pd.read_csv('https://raw.githubusercontent.com/CSSEGISandData/COVID-19/web-data/data/cases_country.csv')"
      ],
      "execution_count": null,
      "outputs": []
    },
    {
      "cell_type": "markdown",
      "metadata": {
        "id": "XA9J_U4C7sWG"
      },
      "source": [
        "Data Preparation"
      ]
    },
    {
      "cell_type": "code",
      "metadata": {
        "id": "KEwI_HAB7oIZ"
      },
      "source": [
        "dates = confirmed_df.columns[4:]\n",
        "\n",
        "confirmed_df_long = confirmed_df.melt(\n",
        "    id_vars=['Province/State', 'Country/Region', 'Lat', 'Long'], \n",
        "    value_vars=dates, \n",
        "    var_name='Date', \n",
        "    value_name='Confirmed'\n",
        ")\n",
        "\n",
        "deaths_df_long = deaths_df.melt(\n",
        "    id_vars=['Province/State', 'Country/Region', 'Lat', 'Long'], \n",
        "    value_vars=dates, \n",
        "    var_name='Date', \n",
        "    value_name='Deaths'\n",
        ")\n",
        "\n",
        "recovered_df_long = recovered_df.melt(\n",
        "    id_vars=['Province/State', 'Country/Region', 'Lat', 'Long'], \n",
        "    value_vars=dates, \n",
        "    var_name='Date', \n",
        "    value_name='Recovered'\n",
        ")"
      ],
      "execution_count": null,
      "outputs": []
    },
    {
      "cell_type": "code",
      "metadata": {
        "id": "8MrHs2197ztW"
      },
      "source": [
        "recovered_df_long = recovered_df_long[recovered_df_long['Country/Region']!='Canada']\n",
        "\n",
        "full_table = confirmed_df_long.merge(\n",
        "  right=deaths_df_long, \n",
        "  how='left',\n",
        "  on=['Province/State', 'Country/Region', 'Date', 'Lat', 'Long']\n",
        ")\n",
        "\n",
        "full_table = full_table.merge(\n",
        "  right=recovered_df_long, \n",
        "  how='left',\n",
        "  on=['Province/State', 'Country/Region', 'Date', 'Lat', 'Long']\n",
        ")"
      ],
      "execution_count": null,
      "outputs": []
    },
    {
      "cell_type": "code",
      "metadata": {
        "id": "DFhXqrGr764X"
      },
      "source": [
        "full_table['Date'] = pd.to_datetime(full_table['Date'])"
      ],
      "execution_count": null,
      "outputs": []
    },
    {
      "cell_type": "code",
      "metadata": {
        "id": "LyrR-zUr7_Gh"
      },
      "source": [
        "full_table['Recovered'] = full_table['Recovered'].fillna(0)"
      ],
      "execution_count": null,
      "outputs": []
    },
    {
      "cell_type": "code",
      "metadata": {
        "id": "N4wOPrXo8ByN"
      },
      "source": [
        "ship_rows = full_table['Province/State'].str.contains('Grand Princess') | full_table['Province/State'].str.contains('Diamond Princess') | full_table['Country/Region'].str.contains('Diamond Princess') | full_table['Country/Region'].str.contains('MS Zaandam')\n",
        "full_ship = full_table[ship_rows]"
      ],
      "execution_count": null,
      "outputs": []
    },
    {
      "cell_type": "code",
      "metadata": {
        "id": "Bz7CVR0A8Edy"
      },
      "source": [
        "full_table = full_table[~(ship_rows)]"
      ],
      "execution_count": null,
      "outputs": []
    },
    {
      "cell_type": "code",
      "metadata": {
        "id": "A16OWhEX8He_"
      },
      "source": [
        "full_table['Active'] = full_table['Confirmed'] - full_table['Deaths'] - full_table['Recovered']"
      ],
      "execution_count": null,
      "outputs": []
    },
    {
      "cell_type": "code",
      "metadata": {
        "id": "FTqQ9KSn8Me8"
      },
      "source": [
        "full_grouped = full_table.groupby(['Date', 'Country/Region'])['Confirmed', 'Deaths', 'Recovered', 'Active'].sum().reset_index()"
      ],
      "execution_count": null,
      "outputs": []
    },
    {
      "cell_type": "code",
      "metadata": {
        "id": "7dYseJTb8PsX"
      },
      "source": [
        "temp = full_grouped.groupby(['Country/Region', 'Date', ])['Confirmed', 'Deaths', 'Recovered']\n",
        "temp = temp.sum().diff().reset_index()\n",
        "mask = temp['Country/Region'] != temp['Country/Region'].shift(1)\n",
        "temp.loc[mask, 'Confirmed'] = np.nan\n",
        "temp.loc[mask, 'Deaths'] = np.nan\n",
        "temp.loc[mask, 'Recovered'] = np.nan\n",
        "\n",
        "temp.columns = ['Country/Region', 'Date', 'New cases', 'New deaths', 'New recovered']\n",
        "\n",
        "full_grouped = pd.merge(full_grouped, temp, on=['Country/Region', 'Date'])\n",
        "\n",
        "full_grouped = full_grouped.fillna(0)\n",
        "\n",
        "cols = ['New cases', 'New deaths', 'New recovered']\n",
        "full_grouped[cols] = full_grouped[cols].astype('int')\n",
        "\n",
        "full_grouped['New cases'] = full_grouped['New cases'].apply(lambda x: 0 if x<0 else x)"
      ],
      "execution_count": null,
      "outputs": []
    },
    {
      "cell_type": "code",
      "metadata": {
        "id": "lavn90C38VAh"
      },
      "source": [
        "full_grouped.to_csv('COVID-19-time-series-clean-complete.csv')\n",
        "full_clean_data = pd.read_csv('COVID-19-time-series-clean-complete.csv', parse_dates=['Date']) "
      ],
      "execution_count": null,
      "outputs": []
    },
    {
      "cell_type": "markdown",
      "metadata": {
        "id": "mkANmxy98g8L"
      },
      "source": [
        "Data Exploration\n",
        "Select time series of Mexico"
      ]
    },
    {
      "cell_type": "code",
      "metadata": {
        "id": "PCheBpVY8dEB"
      },
      "source": [
        "countries = ['Mexico']\n",
        "\n",
        "selected_data = full_clean_data[full_clean_data['Country/Region'].isin(countries)]"
      ],
      "execution_count": null,
      "outputs": []
    },
    {
      "cell_type": "markdown",
      "metadata": {
        "id": "nhzXLqgU8pSH"
      },
      "source": [
        "Confirmed cases time series in Mexico"
      ]
    },
    {
      "cell_type": "code",
      "metadata": {
        "id": "QEf2MKjC8l8U"
      },
      "source": [
        "interval = alt.selection_interval()\n",
        "\n",
        "circle = alt.Chart(selected_data).mark_circle().encode(\n",
        "    x='monthdate(Date):O',\n",
        "    y='Country/Region',\n",
        "    color=alt.condition(interval, 'Country/Region', alt.value('lightgray')),\n",
        "    size=alt.Size('Confirmed:Q',\n",
        "        scale=alt.Scale(range=[0, 3000]),\n",
        "        legend=alt.Legend(title='Confirmed Cases')\n",
        "    )\n",
        "    \n",
        ").properties(\n",
        "    width=1000,\n",
        "    height=300,\n",
        "    selection=interval\n",
        ")"
      ],
      "execution_count": null,
      "outputs": []
    },
    {
      "cell_type": "code",
      "metadata": {
        "id": "aUt1tmxx8yMn"
      },
      "source": [
        "bars = alt.Chart(selected_data).mark_bar().encode(\n",
        "    y='Country/Region',\n",
        "    color='Country/Region',\n",
        "    x='sum(Confirmed):Q'\n",
        ").properties(\n",
        "    width=1000\n",
        ").transform_filter(\n",
        "    interval\n",
        ")\n",
        "\n",
        "circle"
      ],
      "execution_count": null,
      "outputs": []
    },
    {
      "cell_type": "markdown",
      "metadata": {
        "id": "VlWxTwH586F9"
      },
      "source": [
        "Confirmed cases time series in Mexico"
      ]
    },
    {
      "cell_type": "code",
      "metadata": {
        "id": "nH4hTz9z82Zc"
      },
      "source": [
        "circle & bars"
      ],
      "execution_count": null,
      "outputs": []
    },
    {
      "cell_type": "code",
      "metadata": {
        "id": "M8mvWVgt9HFe"
      },
      "source": [
        "full_grouped = pd.read_csv('COVID-19-time-series-clean-complete.csv', parse_dates=['Date'])\n",
        "mexico = full_grouped[full_grouped['Country/Region'] == 'Mexico'] "
      ],
      "execution_count": null,
      "outputs": []
    },
    {
      "cell_type": "code",
      "metadata": {
        "id": "jnRtCzJS9Klj"
      },
      "source": [
        "base = alt.Chart(mexico).mark_bar().encode(\n",
        "    x='monthdate(Date):O',\n",
        ").properties(\n",
        "    width=700\n",
        ")\n",
        "\n",
        "## colors of the charts\n",
        "red = alt.value('#f54242')\n",
        "green = alt.value('#32CD32')"
      ],
      "execution_count": null,
      "outputs": []
    },
    {
      "cell_type": "markdown",
      "metadata": {
        "id": "Z1frkL4l9Sdd"
      },
      "source": [
        "Total confirmed cases time series in Mexico"
      ]
    },
    {
      "cell_type": "code",
      "metadata": {
        "id": "OLhd4zJw9PYP"
      },
      "source": [
        "base.encode(y='Confirmed').properties(title='Total confirmed')"
      ],
      "execution_count": null,
      "outputs": []
    },
    {
      "cell_type": "markdown",
      "metadata": {
        "id": "pxfF8LZF9bt8"
      },
      "source": [
        "Total death cases time series in Mexico "
      ]
    },
    {
      "cell_type": "code",
      "metadata": {
        "id": "int1kOGp9ZW4"
      },
      "source": [
        "base.encode(y='Deaths',color=red).properties(title='Total Deaths') "
      ],
      "execution_count": null,
      "outputs": []
    },
    {
      "cell_type": "markdown",
      "metadata": {
        "id": "oRwLRjH1-JY9"
      },
      "source": [
        "Total death cases time series in Mexico"
      ]
    },
    {
      "cell_type": "code",
      "metadata": {
        "id": "QCJ7GD_x9Wjr"
      },
      "source": [
        "base.encode(y='Deaths',color=red).properties(title='Total Deaths') "
      ],
      "execution_count": null,
      "outputs": []
    },
    {
      "cell_type": "markdown",
      "metadata": {
        "id": "Zt8PzN3v-Yyc"
      },
      "source": [
        "Total recovered cases time series in Mexico"
      ]
    },
    {
      "cell_type": "code",
      "metadata": {
        "id": "f7fCkfff-ZTP"
      },
      "source": [
        "base.encode(y='Recovered',color=green).properties(title='Total Recovered')"
      ],
      "execution_count": null,
      "outputs": []
    },
    {
      "cell_type": "markdown",
      "metadata": {
        "id": "nthhsWxX-50P"
      },
      "source": [
        "Data Visualization and Analysis of Covid-19 in Mexico by State"
      ]
    },
    {
      "cell_type": "code",
      "metadata": {
        "id": "h9XTzlL7-49c"
      },
      "source": [
        "dataset = pd.read_csv('https://raw.githubusercontent.com/DiegoHurtad0/Covid-19-Dataset-Mexico/master/datasetCovid19Mexico.csv')"
      ],
      "execution_count": null,
      "outputs": []
    },
    {
      "cell_type": "markdown",
      "metadata": {
        "id": "STXnLli0_wzd"
      },
      "source": [
        "Data table of Covid-19 in Mexico"
      ]
    },
    {
      "cell_type": "code",
      "metadata": {
        "id": "3wnR1QoV_0aX"
      },
      "source": [
        "data_mex = pd.DataFrame()\n",
        "data_mex[\"State\"] = dataset['Ubicación']\n",
        "data_mex[\"Confirmed\"] = dataset['Confirmados']\n",
        "data_mex[\"Recovered\"] = dataset['Personas recuperadas']\n",
        "data_mex[\"Deaths\"] = dataset['Muertes']"
      ],
      "execution_count": null,
      "outputs": []
    },
    {
      "cell_type": "markdown",
      "metadata": {
        "id": "awtj0Gp5ANyq"
      },
      "source": [
        "Data table with the confirmed, recovered, and death cases"
      ]
    },
    {
      "cell_type": "code",
      "metadata": {
        "id": "OMrt9ZcaAG0O"
      },
      "source": [
        "#hide_input\n",
        "(data_mex.style.set_properties(**{'text-align': 'right'}).background_gradient(cmap='Reds').hide_index()).set_caption(\n",
        "    'Confirmed, deaths and recovered cases') "
      ],
      "execution_count": null,
      "outputs": []
    },
    {
      "cell_type": "markdown",
      "metadata": {
        "id": "9kPBzRk5AYw7"
      },
      "source": [
        "Sort the states with the most confirmed cases"
      ]
    },
    {
      "cell_type": "code",
      "metadata": {
        "id": "GlEOqRVVAUQH"
      },
      "source": [
        "sorted_confirmed = dataset.sort_values('Confirmados', ascending=False).head(10)\n",
        "sorted_confirmed.index = np.arange(1,len(sorted_confirmed)+1)\n",
        "sorted_confirmed.head(10)"
      ],
      "execution_count": null,
      "outputs": []
    },
    {
      "cell_type": "markdown",
      "metadata": {
        "id": "JzIN9EYFAic0"
      },
      "source": [
        "Bar chart with the top 10 worst hit states - confirmed"
      ]
    },
    {
      "cell_type": "code",
      "metadata": {
        "id": "2Y_XRVeUAdBQ"
      },
      "source": [
        "fig = px.bar(sorted_confirmed,\n",
        "    x = \"Ubicación\",\n",
        "    y = \"Confirmados\",\n",
        "    title= \"The Top 10 worst affected states - Confirmed\", # the axis names\n",
        "    color_discrete_sequence=[\"orange\"], \n",
        "    height=600,\n",
        "    width=1000\n",
        ")\n",
        "\n",
        "\n",
        "#fig.write_image(\"images/fig8.png\")\n",
        "fig.show()"
      ],
      "execution_count": null,
      "outputs": []
    },
    {
      "cell_type": "code",
      "metadata": {
        "id": "Qg1-0QnOA4QD"
      },
      "source": [
        "figura = px.bar(sorted_confirmed, \n",
        "             x=\"Confirmados\", y=\"Ubicación\", \n",
        "                title='The Top 10 worst affected states - Confirmed', \n",
        "                text='Confirmados', orientation='h', \n",
        "                color_discrete_sequence=[\"orange\"], \n",
        "             width=800, height=700, range_x = [0, max(sorted_confirmed['Confirmados'])])\n",
        "\n",
        "# fig.update_traces(marker_color=dth, opacity=0.6, textposition='outside')\n",
        "\n",
        "#figura.write_image(\"images/fig9.png\")\n",
        "figura.show()"
      ],
      "execution_count": null,
      "outputs": []
    },
    {
      "cell_type": "markdown",
      "metadata": {
        "id": "mVcHTvSmBFOY"
      },
      "source": [
        "Treemap with the top 10 worst hit states in Mexico - confirmed"
      ]
    },
    {
      "cell_type": "code",
      "metadata": {
        "id": "BLG_7H6lA-j9"
      },
      "source": [
        "figura = px.treemap(sorted_confirmed, \n",
        "                 path=[\"Ubicación\"], \n",
        "                 values=\"Confirmados\", height=800,\n",
        "                 title='The Top 10 worst affected states - Confirmeds',\n",
        "                 color_discrete_sequence = px.colors.qualitative.Prism)\n",
        "figura.data[0].textinfo = 'label+text+value'\n",
        "\n",
        "#figura.write_image(\"images/fig10.png\")\n",
        "figura.show() "
      ],
      "execution_count": null,
      "outputs": []
    },
    {
      "cell_type": "markdown",
      "metadata": {
        "id": "IEA63aYzBXZd"
      },
      "source": [
        "Sort the states with the most cases of death"
      ]
    },
    {
      "cell_type": "code",
      "metadata": {
        "id": "rNX9RPM5BMK6"
      },
      "source": [
        "sorted_death = dataset.sort_values('Muertes', ascending=False).head(10)\n",
        "sorted_death.index = np.arange(1,len(sorted_death)+1)\n",
        "sorted_death.head(10)"
      ],
      "execution_count": null,
      "outputs": []
    },
    {
      "cell_type": "markdown",
      "metadata": {
        "id": "s5ahmT0ZEl20"
      },
      "source": [
        "Bar chart with the top 10 worst hit states - deaths"
      ]
    },
    {
      "cell_type": "code",
      "metadata": {
        "id": "HX1QBaUlFFOd"
      },
      "source": [
        "figura = px.bar(\n",
        "    sorted_death,\n",
        "    x = \"Ubicación\",\n",
        "    y = \"Muertes\",\n",
        "    title= \"the top 10 Worst hit states - Deaths\", # the axis names\n",
        "    color_discrete_sequence=[\"red\"], \n",
        "    height=600,\n",
        "    width=1000\n",
        ")\n",
        "\n",
        "#figura.write_image(\"images/fig11.png\")\n",
        "figura.show()"
      ],
      "execution_count": null,
      "outputs": []
    },
    {
      "cell_type": "code",
      "metadata": {
        "id": "n59XJWiVFKF-"
      },
      "source": [
        "figura = px.bar(sorted_death, \n",
        "             x=\"Muertes\", y=\"Ubicación\", \n",
        "                title='the top 10 Worst hit states - Deaths', text='Muertes', orientation='h', \n",
        "                color_discrete_sequence=[\"red\"], \n",
        "             width=800, height=700, range_x = [0, max(sorted_death['Muertes'])])\n",
        "\n",
        "\n",
        "#figura.write_image(\"images/fig12.png\")\n",
        "figura.show()"
      ],
      "execution_count": null,
      "outputs": []
    },
    {
      "cell_type": "markdown",
      "metadata": {
        "id": "jggUwc2JFXWJ"
      },
      "source": [
        "Treemap with the top 10 worst hit states in Mexico - deaths"
      ]
    },
    {
      "cell_type": "code",
      "metadata": {
        "id": "CT5_K8UMFPRx"
      },
      "source": [
        "figura = px.treemap(sorted_death, \n",
        "                 path=[\"Ubicación\"], \n",
        "                 values=\"Muertes\", height=800,\n",
        "                 title='top 10 Worst hit States in Mexico - Deaths',\n",
        "                 color_discrete_sequence = px.colors.qualitative.Prism)\n",
        "figura.data[0].textinfo = 'label+text+value'\n",
        "\n",
        "#figura.write_image(\"images/fig13.png\")\n",
        "figura.show()"
      ],
      "execution_count": null,
      "outputs": []
    },
    {
      "cell_type": "markdown",
      "metadata": {
        "id": "MKfDizS5FiJD"
      },
      "source": [
        "Sort the states with the most recovered cases"
      ]
    },
    {
      "cell_type": "code",
      "metadata": {
        "id": "waoQTwOxFeG9"
      },
      "source": [
        "sorted_recovered = dataset.sort_values('Personas recuperadas', ascending=False).head(10)\n",
        "sorted_recovered.index = np.arange(1,len(sorted_recovered)+1)\n",
        "sorted_recovered.head(10)"
      ],
      "execution_count": null,
      "outputs": []
    },
    {
      "cell_type": "markdown",
      "metadata": {
        "id": "fYs1SK9MFuOv"
      },
      "source": [
        "Bar chart with the top 10 worst hit states - recovered"
      ]
    },
    {
      "cell_type": "code",
      "metadata": {
        "id": "g2b6OIOkFnL9"
      },
      "source": [
        "figura = px.bar(\n",
        "    sorted_recovered,\n",
        "    x = \"Ubicación\",\n",
        "    y = \"Personas recuperadas\",\n",
        "    title= \"top 10 States in Mexico with most recovered cases\", # the axis names\n",
        "    color_discrete_sequence=[\"green\"], \n",
        "    height=600,\n",
        "    width=1000\n",
        ")\n",
        "\n",
        "#figura.write_image(\"images/fig14.png\")\n",
        "figura.show()"
      ],
      "execution_count": null,
      "outputs": []
    },
    {
      "cell_type": "code",
      "metadata": {
        "id": "oPGxad1zFzA8"
      },
      "source": [
        "figura = px.bar(sorted_recovered, \n",
        "             x=\"Personas recuperadas\", y=\"Ubicación\", \n",
        "                title='top 10 States in Mexico with most recovered cases', text='Personas recuperadas', orientation='h', \n",
        "                color_discrete_sequence=[\"green\"], \n",
        "             width=800, height=700, range_x = [0, max(sorted_recovered['Personas recuperadas'])])\n",
        "\n",
        "# fig.update_traces(marker_color=dth, opacity=0.6, textposition='outside')\n",
        "\n",
        "#figura.write_image(\"images/fig15.png\")\n",
        "figura.show()"
      ],
      "execution_count": null,
      "outputs": []
    },
    {
      "cell_type": "markdown",
      "metadata": {
        "id": "1Bb19DJyGGBq"
      },
      "source": [
        "Treemap with the top 10 states in Mexico with the most recovered cases"
      ]
    },
    {
      "cell_type": "code",
      "metadata": {
        "id": "32rg54JeF3Lm"
      },
      "source": [
        "figura = px.treemap(sorted_recovered, \n",
        "                 path=[\"Ubicación\"], \n",
        "                 values=\"Personas recuperadas\", height=800,\n",
        "                 title='Top 10 States in Mexico with most recovered cases',\n",
        "                 color_discrete_sequence = px.colors.qualitative.Prism)\n",
        "figura.data[0].textinfo = 'label+text+value'\n",
        "\n",
        "#figura.write_image(\"images/fig16.png\")\n",
        "figura.show()"
      ],
      "execution_count": null,
      "outputs": []
    },
    {
      "cell_type": "markdown",
      "metadata": {
        "id": "2cEZ7DuZGRKZ"
      },
      "source": [
        "Time Series of Covid-19 in Mexico by State"
      ]
    },
    {
      "cell_type": "markdown",
      "metadata": {
        "id": "aDUVFbZeGWxF"
      },
      "source": [
        "Import the data"
      ]
    },
    {
      "cell_type": "code",
      "metadata": {
        "id": "6wvS9ThQGLTr"
      },
      "source": [
        "df_Defunciones = pd.read_csv('https://raw.githubusercontent.com/DiegoHurtad0/Covid-19-Dataset-Mexico/master/time_series_covid19_deaths_Mexico.csv')\n",
        "df_confirmados = pd.read_csv('https://raw.githubusercontent.com/DiegoHurtad0/Covid-19-Dataset-Mexico/master/time_series_covid19_confirmed_Mexico.csv')\n",
        "poblacion = df_confirmados[df_confirmados.columns[1]]"
      ],
      "execution_count": null,
      "outputs": []
    },
    {
      "cell_type": "code",
      "metadata": {
        "id": "z2EP9KDfGbkz"
      },
      "source": [
        "df_confirmados = df_confirmados.iloc[:32]\n",
        "poblacion = poblacion[:-1]"
      ],
      "execution_count": null,
      "outputs": []
    },
    {
      "cell_type": "markdown",
      "metadata": {
        "id": "HikvVx5CGhC6"
      },
      "source": [
        "Total confirmed cases time series in Mexico by state"
      ]
    },
    {
      "cell_type": "code",
      "metadata": {
        "id": "uw3VliRXGeeO"
      },
      "source": [
        "total_confirmed = df_confirmados.values.tolist()\n",
        "#time series for each state\n",
        "lista_mexico = []\n",
        "lista_confirmed = []\n",
        "for i in range(len(df_confirmados)):\n",
        "    lista = total_confirmed[i]\n",
        "    del lista[:3]\n",
        "    #time series for each state\n",
        "    lista_mexico.append(lista)\n",
        "    #sum of each state\n",
        "    lista_confirmed.append(sum(lista_mexico[i]))"
      ],
      "execution_count": null,
      "outputs": []
    },
    {
      "cell_type": "markdown",
      "metadata": {
        "id": "oTm-UozYGrag"
      },
      "source": [
        "Total cases of death time series in Mexico by state"
      ]
    },
    {
      "cell_type": "code",
      "metadata": {
        "id": "cdCmCh-gGoWS"
      },
      "source": [
        "#dataframe to list\n",
        "total_Defunciones = df_Defunciones.values.tolist()\n",
        "#time series for each state\n",
        "lista_deathstates = []\n",
        "lista_Defunciones = []\n",
        "for i in range(len(total_Defunciones)):\n",
        "    lista = total_Defunciones[i]\n",
        "    del lista[:3]\n",
        "    #time series for each state\n",
        "    lista_deathstates.append(lista)\n",
        "    #sum of each state\n",
        "    lista_Defunciones.append(sum(lista_deathstates[i]))"
      ],
      "execution_count": null,
      "outputs": []
    },
    {
      "cell_type": "markdown",
      "metadata": {
        "id": "QRB204-wG24C"
      },
      "source": [
        "Delete Mexico total cases"
      ]
    },
    {
      "cell_type": "code",
      "metadata": {
        "id": "QpEHFJEzGxWD"
      },
      "source": [
        "lista_Defunciones = lista_Defunciones[:-1]"
      ],
      "execution_count": null,
      "outputs": []
    },
    {
      "cell_type": "markdown",
      "metadata": {
        "id": "rbxc_CZPG9JX"
      },
      "source": [
        "Data table with the confirmed, recovered, and death cases by state in Mexico"
      ]
    },
    {
      "cell_type": "code",
      "metadata": {
        "id": "yQH4izmMG6jG"
      },
      "source": [
        "data_table = pd.DataFrame()\n",
        "data_table[\"Region\"] = df_confirmados[df_confirmados.columns[2]]\n",
        "data_table[\"Confirmed cases\"] = lista_confirmed\n",
        "data_table[\"Confirmed cases per 100,000 people\"] = np.round(100000*(data_table[\"Confirmed cases\"] / poblacion), decimals=1).values\n",
        "data_table[\"Confirmed deaths\"] = lista_Defunciones\n",
        "data_table[\"Confirmed deaths per 100.000 people\"] = \\\n",
        "np.round(100000*data_table[\"Confirmed deaths\"]/(poblacion), decimals=1)"
      ],
      "execution_count": null,
      "outputs": []
    },
    {
      "cell_type": "markdown",
      "metadata": {
        "id": "-H1bHhgEHJOd"
      },
      "source": [
        "Plot table"
      ]
    },
    {
      "cell_type": "code",
      "metadata": {
        "id": "9nHneI34HCeZ"
      },
      "source": [
        "#hide_input\n",
        "(data_table.style.set_properties(**{'text-align': 'right'}).background_gradient(cmap='Reds').hide_index()).set_caption(\n",
        "    'Statistics by region: Confirmed cases and confirmed deaths')"
      ],
      "execution_count": null,
      "outputs": []
    },
    {
      "cell_type": "code",
      "metadata": {
        "id": "bITcvjfDHP5V"
      },
      "source": [
        "df_confirmados = pd.read_csv('https://raw.githubusercontent.com/DiegoHurtad0/Covid-19-Dataset-Mexico/master/time_series_covid19_confirmed_Mexico.csv')"
      ],
      "execution_count": null,
      "outputs": []
    },
    {
      "cell_type": "code",
      "metadata": {
        "id": "NglaVei-HV28"
      },
      "source": [
        "states = df_confirmados[df_confirmados.columns[2]]"
      ],
      "execution_count": null,
      "outputs": []
    },
    {
      "cell_type": "code",
      "metadata": {
        "id": "m2SBRM1dHZYk"
      },
      "source": [
        "df_confirmados.head(5)\n",
        "df_confirmados = df_confirmados.iloc[:31]"
      ],
      "execution_count": null,
      "outputs": []
    },
    {
      "cell_type": "markdown",
      "metadata": {
        "id": "BJhJVSAIHcvc"
      },
      "source": [
        "Delete useless columns"
      ]
    },
    {
      "cell_type": "code",
      "metadata": {
        "id": "rOcThDq7HgCE"
      },
      "source": [
        "del df_confirmados['cve_ent']\n",
        "del df_confirmados['poblacion']"
      ],
      "execution_count": null,
      "outputs": []
    },
    {
      "cell_type": "code",
      "metadata": {
        "id": "WBHOlIqrHlNu"
      },
      "source": [
        "df_confirmados.reset_index(drop=True, inplace=True)"
      ],
      "execution_count": null,
      "outputs": []
    },
    {
      "cell_type": "code",
      "metadata": {
        "id": "lCIwON3mHlJw"
      },
      "source": [
        "df_confirmados.head(5)\n",
        "df_confirmados.to_csv('df_confirmados.csv', index=False)"
      ],
      "execution_count": null,
      "outputs": []
    },
    {
      "cell_type": "code",
      "metadata": {
        "id": "RpqyLd5wHlIP"
      },
      "source": [
        "states = df_confirmados[df_confirmados.columns[1]]"
      ],
      "execution_count": null,
      "outputs": []
    },
    {
      "cell_type": "code",
      "metadata": {
        "id": "Sk13kQH8Ht6X"
      },
      "source": [
        "df_confirmados = pd.read_csv('df_confirmados.csv', index_col=0)"
      ],
      "execution_count": null,
      "outputs": []
    },
    {
      "cell_type": "code",
      "metadata": {
        "id": "MEkNeVFqHxIt"
      },
      "source": [
        "data = pd.DataFrame()\n",
        "i = 0\n",
        "for date in df_confirmados.keys():\n",
        "    for n, nombre in enumerate(df_confirmados.index):\n",
        "        data[i] = date,nombre,df_confirmados[date].loc[nombre], n\n",
        "        i += 1\n",
        "\n",
        "data.head(4)"
      ],
      "execution_count": null,
      "outputs": []
    },
    {
      "cell_type": "code",
      "metadata": {
        "id": "W0llWuJtH1Xe"
      },
      "source": [
        "#hide\n",
        "df_confirmados = df_confirmados.reset_index()\n",
        "regiones = df_confirmados['nombre'].values\n",
        "data = data.T\n",
        "data = data.rename(columns={0: \"date\", 1: \"region\", 2: \"casos\", 3: \"codigo region\"})"
      ],
      "execution_count": null,
      "outputs": []
    },
    {
      "cell_type": "code",
      "metadata": {
        "id": "qSK4JkG0H6zJ"
      },
      "source": [
        "#disable max rows of the chart\n",
        "alt.data_transformers.disable_max_rows()"
      ],
      "execution_count": null,
      "outputs": []
    },
    {
      "cell_type": "code",
      "metadata": {
        "id": "I7FtXrzAH9w0"
      },
      "source": [
        "#hide\n",
        "data[\"casos\"] = data[\"casos\"].astype(int)"
      ],
      "execution_count": null,
      "outputs": []
    },
    {
      "cell_type": "markdown",
      "metadata": {
        "id": "Q4s0FGDzLjGN"
      },
      "source": [
        "Chart with the total confirmed cases by state"
      ]
    },
    {
      "cell_type": "code",
      "metadata": {
        "id": "4JhC2EWcIGE0"
      },
      "source": [
        "#hide_input\n",
        "input_dropdown = alt.binding_select(options=data['region'].unique())\n",
        "selection1 = alt.selection_single(fields=['region'], bind=input_dropdown, name=' ')\n",
        "selection2 = alt.selection_multi(fields=['region'], on='mouseover')\n",
        "color = alt.condition(selection1 | selection2,\n",
        "                    alt.Color('region:N', scale=alt.Scale(scheme='tableau20'), legend=None),\n",
        "                    alt.value('lightgray'))\n",
        "\n",
        "chart = alt.Chart(data).mark_bar().encode(\n",
        "    x=alt.X('date:O', axis=alt.Axis(title='Date')),\n",
        "    y=alt.Y('casos', axis=alt.Axis(title='Confirmed cases')),\n",
        "    color=color,\n",
        "    tooltip=['date', 'region', 'casos'],\n",
        "    order=alt.Order(\n",
        "    \n",
        "    'codigo region',\n",
        "    sort='descending'\n",
        "    )\n",
        "    \n",
        ").properties(\n",
        "    title='COVID-19 in Mexico: Total confirmed cases by State'\n",
        ").add_selection(\n",
        "    selection1, selection2\n",
        ").transform_filter(\n",
        "    selection1\n",
        ")\n",
        "\n",
        "legend = alt.Chart(data).mark_point().encode(\n",
        "    y=alt.Y('region:N', axis=alt.Axis(orient='right'), sort=regiones),\n",
        "    color=color\n",
        ").add_selection(\n",
        "    selection1, selection2\n",
        ")\n",
        "\n",
        "chart.properties(width=900, height=700) | legend"
      ],
      "execution_count": null,
      "outputs": []
    },
    {
      "cell_type": "markdown",
      "metadata": {
        "id": "0iwdFtp8-qlm"
      },
      "source": [
        "Import time series of deaths cases"
      ]
    },
    {
      "cell_type": "code",
      "metadata": {
        "id": "lDLOR5kM-lyN"
      },
      "source": [
        "link = ''\n",
        "df_Defunciones = pd.read_csv('https://raw.githubusercontent.com/DiegoHurtad0/Covid-19-Dataset-Mexico/master/time_series_covid19_deaths_Mexico.csv')"
      ],
      "execution_count": null,
      "outputs": []
    },
    {
      "cell_type": "code",
      "metadata": {
        "id": "vEX3qOku-xRn"
      },
      "source": [
        "df_Defunciones = df_Defunciones.iloc[:31]"
      ],
      "execution_count": null,
      "outputs": []
    },
    {
      "cell_type": "code",
      "metadata": {
        "id": "iA_Ix--O-3hV"
      },
      "source": [
        "del df_Defunciones['cve_ent']\n",
        "del df_Defunciones['poblacion']\n",
        "df_Defunciones.head(5)"
      ],
      "execution_count": null,
      "outputs": []
    },
    {
      "cell_type": "code",
      "metadata": {
        "id": "YeyytiKq-8YK"
      },
      "source": [
        "del df_Defunciones['17-03-2020']\n",
        "df_Defunciones.head(5)"
      ],
      "execution_count": null,
      "outputs": []
    },
    {
      "cell_type": "code",
      "metadata": {
        "id": "Yebm6nOE_Bmx"
      },
      "source": [
        "df_Defunciones.to_csv('df_Defunciones.csv', index=False)"
      ],
      "execution_count": null,
      "outputs": []
    },
    {
      "cell_type": "code",
      "metadata": {
        "id": "tcPqCIgb_EyP"
      },
      "source": [
        "df_Defunciones = pd.read_csv('df_Defunciones.csv', index_col=0)"
      ],
      "execution_count": null,
      "outputs": []
    },
    {
      "cell_type": "code",
      "metadata": {
        "id": "oitLgQWY_MwV"
      },
      "source": [
        "df_Defunciones.head(5)"
      ],
      "execution_count": null,
      "outputs": []
    },
    {
      "cell_type": "code",
      "metadata": {
        "id": "UijaLQem_Qig"
      },
      "source": [
        "#hide\n",
        "new_data = pd.DataFrame()\n",
        "i = 0\n",
        "for date in df_Defunciones.keys():\n",
        "    for n, nombre in enumerate(df_Defunciones.index):\n",
        "        new_data[i] = date, nombre, df_Defunciones[date].loc[nombre], n\n",
        "        i += 1"
      ],
      "execution_count": null,
      "outputs": []
    },
    {
      "cell_type": "code",
      "metadata": {
        "id": "Cckog29O_VgO"
      },
      "source": [
        "#hide\n",
        "data = df_Defunciones.reset_index()\n",
        "regiones = data['nombre'].values\n",
        "new_data = new_data.T\n",
        "new_data = new_data.rename(columns={0: \"date\", 1: \"region\", 2: \"fallecidos\", 3: \"codigo region\"})"
      ],
      "execution_count": null,
      "outputs": []
    },
    {
      "cell_type": "code",
      "metadata": {
        "id": "zbO5PqAl_Zfa"
      },
      "source": [
        "#hide\n",
        "new_data[\"fallecidos\"] = new_data[\"fallecidos\"].astype(int)"
      ],
      "execution_count": null,
      "outputs": []
    },
    {
      "cell_type": "markdown",
      "metadata": {
        "id": "TUCCSCLp_dUh"
      },
      "source": [
        "Chart with the total cases of death by state"
      ]
    },
    {
      "cell_type": "code",
      "metadata": {
        "id": "z2j8pgCn_hv7"
      },
      "source": [
        "#hide_input\n",
        "\n",
        "input_dropdown = alt.binding_select(options=new_data['region'].unique())\n",
        "selection1 = alt.selection_single(fields=['region'], bind=input_dropdown, name=' ')\n",
        "selection2 = alt.selection_multi(fields=['region'], on='mouseover')\n",
        "\n",
        "color = alt.condition(selection1 | selection2,\n",
        "                    alt.Color('region:N', scale=alt.Scale(scheme='tableau20'), legend=None),\n",
        "                    alt.value('lightgray'))\n",
        "\n",
        "bars = alt.Chart(new_data).mark_bar().encode(\n",
        "    x=alt.X('date:O', axis=alt.Axis(title='Date')),\n",
        "    y=alt.Y('fallecidos', axis=alt.Axis(title='Confirmed deaths')),\n",
        "    color=color,\n",
        "    tooltip=['date', 'region', 'fallecidos'],\n",
        "    order=alt.Order(\n",
        "    # Sort the segments of the bars by this field\n",
        "    'codigo region',\n",
        "    sort='descending'\n",
        "    )\n",
        "    ).properties(\n",
        "    title='COVID-19 in Mexico: Total confirmed deaths by states'\n",
        ").add_selection(\n",
        "    selection1, selection2\n",
        ").transform_filter(\n",
        "    selection1\n",
        ")\n",
        "\n",
        "legend = alt.Chart(new_data).mark_point().encode(\n",
        "    y=alt.Y('region:N', axis=alt.Axis(orient='right'), sort=regiones),\n",
        "    color=color\n",
        ").add_selection(\n",
        "    selection1, selection2\n",
        ")\n",
        "\n",
        "bars.properties(width=800, height=600) | legend"
      ],
      "execution_count": null,
      "outputs": []
    },
    {
      "cell_type": "code",
      "metadata": {
        "id": "xzMV9JLk_pad"
      },
      "source": [
        "display(HTML(\"<div style = 'background-color: #504e4e; padding: 30px '>\" +\n",
        "             \"<span style='color: #FF8000; font-size:30px;'></span>\" +\n",
        "             \"<span style='color: #FF0000; font-size:30px;margin-left:20px;'></span>\"+\n",
        "             \"<span style='color: #66CC00; font-size:30px; margin-left:20px;'></span>\"+\n",
        "             \"</div>\")\n",
        "       )"
      ],
      "execution_count": null,
      "outputs": []
    }
  ]
}